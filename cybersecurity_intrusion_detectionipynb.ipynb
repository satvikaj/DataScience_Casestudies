{
  "nbformat": 4,
  "nbformat_minor": 0,
  "metadata": {
    "colab": {
      "provenance": []
    },
    "kernelspec": {
      "name": "python3",
      "display_name": "Python 3"
    },
    "language_info": {
      "name": "python"
    }
  },
  "cells": [
    {
      "cell_type": "code",
      "execution_count": null,
      "metadata": {
        "colab": {
          "base_uri": "https://localhost:8080/"
        },
        "id": "9Ae0LpgrrWel",
        "outputId": "8008847f-c2a9-4767-91ad-91cc4878278c"
      },
      "outputs": [
        {
          "output_type": "stream",
          "name": "stdout",
          "text": [
            "Mounted at /content/drive\n"
          ]
        }
      ],
      "source": [
        "from google.colab import drive\n",
        "drive.mount('/content/drive')\n",
        "\n"
      ]
    },
    {
      "cell_type": "code",
      "source": [
        "import pandas as pd\n",
        "\n",
        "\n",
        "file_path = \"/content/drive/My Drive/cybersecurity_intrusion_data.csv\"\n",
        "data = pd.read_csv(file_path)\n"
      ],
      "metadata": {
        "id": "yfvf7ewLr-lz"
      },
      "execution_count": null,
      "outputs": []
    },
    {
      "cell_type": "code",
      "source": [
        "print(data.head())"
      ],
      "metadata": {
        "colab": {
          "base_uri": "https://localhost:8080/"
        },
        "id": "OfOXQzQcsNzI",
        "outputId": "4a2e43bd-1bd8-4649-ba09-de2fa9341e7f"
      },
      "execution_count": null,
      "outputs": [
        {
          "output_type": "stream",
          "name": "stdout",
          "text": [
            "  session_id  network_packet_size protocol_type  login_attempts  \\\n",
            "0  SID_00001                  599           TCP               4   \n",
            "1  SID_00002                  472           TCP               3   \n",
            "2  SID_00003                  629           TCP               3   \n",
            "3  SID_00004                  804           UDP               4   \n",
            "4  SID_00005                  453           TCP               5   \n",
            "\n",
            "   session_duration encryption_used  ip_reputation_score  failed_logins  \\\n",
            "0        492.983263             DES             0.606818              1   \n",
            "1       1557.996461             DES             0.301569              0   \n",
            "2         75.044262             DES             0.739164              2   \n",
            "3        601.248835             DES             0.123267              0   \n",
            "4        532.540888             AES             0.054874              1   \n",
            "\n",
            "  browser_type  unusual_time_access  attack_detected  \n",
            "0         Edge                    0                1  \n",
            "1      Firefox                    0                0  \n",
            "2       Chrome                    0                1  \n",
            "3      Unknown                    0                1  \n",
            "4      Firefox                    0                0  \n"
          ]
        }
      ]
    },
    {
      "cell_type": "code",
      "source": [
        "print(data.columns)\n"
      ],
      "metadata": {
        "colab": {
          "base_uri": "https://localhost:8080/"
        },
        "id": "yuD8mhHSs6Zg",
        "outputId": "eaa88cd4-974d-4be8-f657-040b849cb1b3"
      },
      "execution_count": null,
      "outputs": [
        {
          "output_type": "stream",
          "name": "stdout",
          "text": [
            "Index(['session_id', 'network_packet_size', 'protocol_type', 'login_attempts',\n",
            "       'session_duration', 'encryption_used', 'ip_reputation_score',\n",
            "       'failed_logins', 'browser_type', 'unusual_time_access',\n",
            "       'attack_detected'],\n",
            "      dtype='object')\n"
          ]
        }
      ]
    },
    {
      "cell_type": "code",
      "source": [
        "\n",
        "print(data.info())\n",
        "print(data.isnull().sum())\n",
        "print(\"Columns:\", data.columns)\n",
        "print(\"Target Column Unique Values:\", data[\"attack_detected\"].unique())\n"
      ],
      "metadata": {
        "colab": {
          "base_uri": "https://localhost:8080/"
        },
        "id": "HcvNLTKbtOfG",
        "outputId": "b6cbe9aa-b1d9-4e59-abc0-1092f7d4ef00"
      },
      "execution_count": null,
      "outputs": [
        {
          "output_type": "stream",
          "name": "stdout",
          "text": [
            "<class 'pandas.core.frame.DataFrame'>\n",
            "RangeIndex: 9537 entries, 0 to 9536\n",
            "Data columns (total 11 columns):\n",
            " #   Column               Non-Null Count  Dtype  \n",
            "---  ------               --------------  -----  \n",
            " 0   session_id           9537 non-null   object \n",
            " 1   network_packet_size  9537 non-null   int64  \n",
            " 2   protocol_type        9537 non-null   object \n",
            " 3   login_attempts       9537 non-null   int64  \n",
            " 4   session_duration     9537 non-null   float64\n",
            " 5   encryption_used      7571 non-null   object \n",
            " 6   ip_reputation_score  9537 non-null   float64\n",
            " 7   failed_logins        9537 non-null   int64  \n",
            " 8   browser_type         9537 non-null   object \n",
            " 9   unusual_time_access  9537 non-null   int64  \n",
            " 10  attack_detected      9537 non-null   int64  \n",
            "dtypes: float64(2), int64(5), object(4)\n",
            "memory usage: 819.7+ KB\n",
            "None\n",
            "session_id                0\n",
            "network_packet_size       0\n",
            "protocol_type             0\n",
            "login_attempts            0\n",
            "session_duration          0\n",
            "encryption_used        1966\n",
            "ip_reputation_score       0\n",
            "failed_logins             0\n",
            "browser_type              0\n",
            "unusual_time_access       0\n",
            "attack_detected           0\n",
            "dtype: int64\n",
            "Columns: Index(['session_id', 'network_packet_size', 'protocol_type', 'login_attempts',\n",
            "       'session_duration', 'encryption_used', 'ip_reputation_score',\n",
            "       'failed_logins', 'browser_type', 'unusual_time_access',\n",
            "       'attack_detected'],\n",
            "      dtype='object')\n",
            "Target Column Unique Values: [1 0]\n"
          ]
        }
      ]
    },
    {
      "cell_type": "code",
      "source": [
        "# Convert categorical features to numerical (One-Hot Encoding)\n",
        "categorical_cols = [\"protocol_type\", \"browser_type\"]\n",
        "data = pd.get_dummies(data, columns=categorical_cols, drop_first=True)\n",
        "\n",
        "# Convert target variable to binary (if not already 0s and 1s)\n",
        "if data[\"attack_detected\"].dtype == 'object':\n",
        "    data[\"attack_detected\"] = data[\"attack_detected\"].apply(lambda x: 1 if x == \"Attack\" else 0)\n",
        "\n",
        "# Display updated dataset\n",
        "print(data.head())\n"
      ],
      "metadata": {
        "colab": {
          "base_uri": "https://localhost:8080/"
        },
        "id": "NQU8DlYvtVCe",
        "outputId": "33c38037-127b-40a4-e6b6-7d7495d2859c"
      },
      "execution_count": null,
      "outputs": [
        {
          "output_type": "stream",
          "name": "stdout",
          "text": [
            "  session_id  network_packet_size  login_attempts  session_duration  \\\n",
            "0  SID_00001                  599               4        492.983263   \n",
            "1  SID_00002                  472               3       1557.996461   \n",
            "2  SID_00003                  629               3         75.044262   \n",
            "3  SID_00004                  804               4        601.248835   \n",
            "4  SID_00005                  453               5        532.540888   \n",
            "\n",
            "  encryption_used  ip_reputation_score  failed_logins  unusual_time_access  \\\n",
            "0             DES             0.606818              1                    0   \n",
            "1             DES             0.301569              0                    0   \n",
            "2             DES             0.739164              2                    0   \n",
            "3             DES             0.123267              0                    0   \n",
            "4             AES             0.054874              1                    0   \n",
            "\n",
            "   attack_detected  protocol_type_TCP  protocol_type_UDP  browser_type_Edge  \\\n",
            "0                1               True              False               True   \n",
            "1                0               True              False              False   \n",
            "2                1               True              False              False   \n",
            "3                1              False               True              False   \n",
            "4                0               True              False              False   \n",
            "\n",
            "   browser_type_Firefox  browser_type_Safari  browser_type_Unknown  \n",
            "0                 False                False                 False  \n",
            "1                  True                False                 False  \n",
            "2                 False                False                 False  \n",
            "3                 False                False                  True  \n",
            "4                  True                False                 False  \n"
          ]
        }
      ]
    },
    {
      "cell_type": "code",
      "source": [
        "# Define features (X) and target (y)\n",
        "X = data.drop(\"attack_detected\", axis=1)\n",
        "y = data[\"attack_detected\"]\n",
        "\n",
        "# Print dataset shape\n",
        "print(f\"Features Shape: {X.shape}\")\n",
        "print(f\"Target Shape: {y.shape}\")\n"
      ],
      "metadata": {
        "colab": {
          "base_uri": "https://localhost:8080/"
        },
        "id": "tnxVgxURta-K",
        "outputId": "8e928a04-8e80-4ab3-f666-afd066e3cf80"
      },
      "execution_count": null,
      "outputs": [
        {
          "output_type": "stream",
          "name": "stdout",
          "text": [
            "Features Shape: (9537, 14)\n",
            "Target Shape: (9537,)\n"
          ]
        }
      ]
    },
    {
      "cell_type": "code",
      "source": [
        "from sklearn.model_selection import train_test_split\n",
        "\n",
        "# Split dataset into training (80%) and testing (20%) sets\n",
        "X_train, X_test, y_train, y_test = train_test_split(\n",
        "    X, y, test_size=0.3, random_state=42, stratify=y\n",
        ")\n",
        "\n",
        "print(f\"Training samples: {X_train.shape[0]}\")\n",
        "print(f\"Testing samples: {X_test.shape[0]}\")\n"
      ],
      "metadata": {
        "colab": {
          "base_uri": "https://localhost:8080/"
        },
        "id": "AwzM0wo9teNv",
        "outputId": "22de121f-31e8-44aa-d38c-321d5f6b715f"
      },
      "execution_count": null,
      "outputs": [
        {
          "output_type": "stream",
          "name": "stdout",
          "text": [
            "Training samples: 6675\n",
            "Testing samples: 2862\n"
          ]
        }
      ]
    },
    {
      "cell_type": "code",
      "source": [
        "import pandas as pd\n",
        "X_train = pd.DataFrame(X_train)\n",
        "X_test = pd.DataFrame(X_test)\n",
        "\n"
      ],
      "metadata": {
        "id": "sm99YZHMtgm3"
      },
      "execution_count": null,
      "outputs": []
    },
    {
      "cell_type": "code",
      "source": [
        "import numpy as np\n",
        "\n",
        "print(\"NaN values in X_train:\", np.isnan(X_train).sum().sum())\n",
        "print(\"NaN values in X_test:\", np.isnan(X_test).sum().sum())\n",
        "\n",
        "print(\"Infinite values in X_train:\", np.isinf(X_train).sum().sum())\n",
        "print(\"Infinite values in X_test:\", np.isinf(X_test).sum().sum())\n"
      ],
      "metadata": {
        "colab": {
          "base_uri": "https://localhost:8080/"
        },
        "id": "80GP4RcsuJ_H",
        "outputId": "93803789-7ccf-44a3-ce76-da919d88f236"
      },
      "execution_count": null,
      "outputs": [
        {
          "output_type": "stream",
          "name": "stdout",
          "text": [
            "NaN values in X_train: 0\n",
            "NaN values in X_test: 0\n",
            "Infinite values in X_train: 0\n",
            "Infinite values in X_test: 0\n"
          ]
        }
      ]
    },
    {
      "cell_type": "code",
      "source": [
        "print(data.isnull().sum())\n"
      ],
      "metadata": {
        "colab": {
          "base_uri": "https://localhost:8080/"
        },
        "id": "NVdRVitXueBL",
        "outputId": "b2ecdead-283a-4aad-c71e-96231c81da0c"
      },
      "execution_count": null,
      "outputs": [
        {
          "output_type": "stream",
          "name": "stdout",
          "text": [
            "session_id                 0\n",
            "network_packet_size        0\n",
            "login_attempts             0\n",
            "session_duration           0\n",
            "encryption_used         1966\n",
            "ip_reputation_score        0\n",
            "failed_logins              0\n",
            "unusual_time_access        0\n",
            "attack_detected            0\n",
            "protocol_type_TCP          0\n",
            "protocol_type_UDP          0\n",
            "browser_type_Edge          0\n",
            "browser_type_Firefox       0\n",
            "browser_type_Safari        0\n",
            "browser_type_Unknown       0\n",
            "dtype: int64\n"
          ]
        }
      ]
    },
    {
      "cell_type": "code",
      "source": [
        "# Drop columns with all missing values\n",
        "data = data.dropna(axis=1, how=\"all\")\n"
      ],
      "metadata": {
        "id": "eilK7pAHugkK"
      },
      "execution_count": null,
      "outputs": []
    },
    {
      "cell_type": "code",
      "source": [
        "from sklearn.preprocessing import StandardScaler\n",
        "from sklearn.impute import SimpleImputer\n",
        "import numpy as np\n",
        "\n",
        "# Drop completely empty columns\n",
        "data = data.dropna(axis=1, how=\"all\")\n",
        "\n",
        "# Define features (X) and target (y)\n",
        "X = data.drop(\"attack_detected\", axis=1)\n",
        "y = data[\"attack_detected\"]\n",
        "\n",
        "# Convert categorical variables to numerical (if not done before)\n",
        "X = pd.get_dummies(X, drop_first=True)\n",
        "\n",
        "# Handle missing values using Median Imputation\n",
        "imputer = SimpleImputer(strategy=\"median\")\n",
        "X = imputer.fit_transform(X)\n",
        "\n",
        "# Convert to NumPy array and replace NaN values\n",
        "X = np.nan_to_num(X)\n",
        "\n",
        "# Train-Test Split\n",
        "from sklearn.model_selection import train_test_split\n",
        "X_train, X_test, y_train, y_test = train_test_split(X, y, test_size=0.2, random_state=42)\n",
        "\n",
        "# Apply StandardScaler\n",
        "scaler = StandardScaler()\n",
        "X_train_scaled = scaler.fit_transform(X_train)\n",
        "X_test_scaled = scaler.transform(X_test)\n"
      ],
      "metadata": {
        "id": "0BRtFjkwulLv"
      },
      "execution_count": null,
      "outputs": []
    },
    {
      "cell_type": "code",
      "source": [
        "from imblearn.over_sampling import SMOTE\n",
        "\n",
        "# Apply SMOTE to balance classes\n",
        "smote = SMOTE(random_state=42)\n",
        "X_train_smote, y_train_smote = smote.fit_resample(X_train, y_train)\n",
        "\n",
        "# Print new class distribution\n",
        "print(y_train_smote.value_counts())\n"
      ],
      "metadata": {
        "colab": {
          "base_uri": "https://localhost:8080/"
        },
        "id": "VvxBkn9AurZ_",
        "outputId": "ac11d5a0-94b3-4fee-efe8-aa53c7b775e4"
      },
      "execution_count": null,
      "outputs": [
        {
          "output_type": "stream",
          "name": "stdout",
          "text": [
            "attack_detected\n",
            "1    4231\n",
            "0    4231\n",
            "Name: count, dtype: int64\n"
          ]
        }
      ]
    },
    {
      "cell_type": "code",
      "source": [
        "from sklearn.ensemble import RandomForestClassifier\n",
        "from sklearn.metrics import accuracy_score, confusion_matrix, classification_report\n",
        "\n",
        "# Train Random Forest\n",
        "rf_model = RandomForestClassifier(n_estimators=100, random_state=42)\n",
        "rf_model.fit(X_train_smote, y_train_smote)\n",
        "\n",
        "# Predict on test data\n",
        "y_pred_rf = rf_model.predict(X_test)\n",
        "\n",
        "# Evaluate\n",
        "accuracy_rf = accuracy_score(y_test, y_pred_rf)\n",
        "print(f\"Random Forest Accuracy: {accuracy_rf:.2f}\")\n",
        "\n",
        "# Confusion Matrix\n",
        "print(\"Confusion Matrix:\")\n",
        "print(confusion_matrix(y_test, y_pred_rf))\n",
        "\n",
        "# Classification Report\n",
        "print(\"Classification Report:\")\n",
        "print(classification_report(y_test, y_pred_rf))\n"
      ],
      "metadata": {
        "colab": {
          "base_uri": "https://localhost:8080/"
        },
        "id": "Qp6IfBMUuyGg",
        "outputId": "b11681f2-3c84-46db-c670-b46fd57b1917"
      },
      "execution_count": null,
      "outputs": [
        {
          "output_type": "stream",
          "name": "stdout",
          "text": [
            "Random Forest Accuracy: 0.89\n",
            "Confusion Matrix:\n",
            "[[1037    5]\n",
            " [ 203  663]]\n",
            "Classification Report:\n",
            "              precision    recall  f1-score   support\n",
            "\n",
            "           0       0.84      1.00      0.91      1042\n",
            "           1       0.99      0.77      0.86       866\n",
            "\n",
            "    accuracy                           0.89      1908\n",
            "   macro avg       0.91      0.88      0.89      1908\n",
            "weighted avg       0.91      0.89      0.89      1908\n",
            "\n"
          ]
        }
      ]
    },
    {
      "cell_type": "code",
      "source": [
        "from sklearn.metrics import accuracy_score, classification_report\n",
        "\n",
        "# Predict on test data\n",
        "y_pred_xgb = xgb_model.predict(X_test)\n",
        "\n",
        "# Evaluate\n",
        "accuracy_xgb = accuracy_score(y_test, y_pred_xgb)\n",
        "print(f\"XGBoost Accuracy: {accuracy_xgb:.2f}\")\n",
        "\n",
        "# Generate classification report\n",
        "report_xgb = classification_report(y_test, y_pred_xgb)\n",
        "print(\"Classification Report for XGBoost:\")\n",
        "print(report_xgb)\n",
        "\n"
      ],
      "metadata": {
        "colab": {
          "base_uri": "https://localhost:8080/"
        },
        "id": "03NijoU0vG2Y",
        "outputId": "4423cb99-84aa-42c5-aefc-8068d7f048e2"
      },
      "execution_count": null,
      "outputs": [
        {
          "output_type": "stream",
          "name": "stdout",
          "text": [
            "XGBoost Accuracy: 0.89\n",
            "Classification Report for XGBoost:\n",
            "              precision    recall  f1-score   support\n",
            "\n",
            "           0       0.84      0.99      0.91      1042\n",
            "           1       0.98      0.78      0.87       866\n",
            "\n",
            "    accuracy                           0.89      1908\n",
            "   macro avg       0.91      0.88      0.89      1908\n",
            "weighted avg       0.90      0.89      0.89      1908\n",
            "\n"
          ]
        }
      ]
    },
    {
      "cell_type": "code",
      "source": [
        "import seaborn as sns\n",
        "import matplotlib.pyplot as plt\n",
        "\n",
        "# Confusion Matrix for XGBoost\n",
        "conf_matrix = confusion_matrix(y_test, y_pred_xgb)\n",
        "\n",
        "sns.heatmap(conf_matrix, annot=True, fmt=\"d\", cmap=\"Blues\")\n",
        "plt.xlabel(\"Predicted\")\n",
        "plt.ylabel(\"Actual\")\n",
        "plt.title(\"XGBoost Confusion Matrix\")\n",
        "plt.show()\n"
      ],
      "metadata": {
        "colab": {
          "base_uri": "https://localhost:8080/",
          "height": 472
        },
        "id": "XzExATv4vRNP",
        "outputId": "270ffbb5-e377-44f0-feeb-644fd1cc8866"
      },
      "execution_count": null,
      "outputs": [
        {
          "output_type": "display_data",
          "data": {
            "text/plain": [
              "<Figure size 640x480 with 2 Axes>"
            ],
            "image/png": "[encoded data removed]"
          },
          "metadata": {}
        }
      ]
    }
  ]
}